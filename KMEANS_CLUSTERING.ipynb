{
  "nbformat": 4,
  "nbformat_minor": 0,
  "metadata": {
    "colab": {
      "provenance": [],
      "authorship_tag": "ABX9TyMgX/jCSOD28BAANgqXJRil",
      "include_colab_link": true
    },
    "kernelspec": {
      "name": "python3",
      "display_name": "Python 3"
    },
    "language_info": {
      "name": "python"
    }
  },
  "cells": [
    {
      "cell_type": "markdown",
      "metadata": {
        "id": "view-in-github",
        "colab_type": "text"
      },
      "source": [
        "<a href=\"https://colab.research.google.com/github/Abhi-zen3x/Machine_Learning/blob/main/KMEANS_CLUSTERING.ipynb\" target=\"_parent\"><img src=\"https://colab.research.google.com/assets/colab-badge.svg\" alt=\"Open In Colab\"/></a>"
      ]
    },
    {
      "cell_type": "markdown",
      "source": [
        "#**KMEANS CLUSTERING**"
      ],
      "metadata": {
        "id": "ebXSV1pFQcyZ"
      }
    },
    {
      "cell_type": "markdown",
      "source": [
        "###**IMPORTING MODULE**"
      ],
      "metadata": {
        "id": "qBtNsn-HQsn1"
      }
    },
    {
      "cell_type": "code",
      "execution_count": 1,
      "metadata": {
        "id": "mzWPnuo371iG"
      },
      "outputs": [],
      "source": [
        "from sklearn.cluster import KMeans\n",
        "from sklearn.metrics import silhouette_score\n",
        "import numpy as np\n",
        "import matplotlib.pyplot as plt\n"
      ]
    },
    {
      "cell_type": "markdown",
      "source": [
        "###**DATA INITIALIZING**"
      ],
      "metadata": {
        "id": "Dag-pRpvQ144"
      }
    },
    {
      "cell_type": "code",
      "source": [
        "#Define input matrix\n",
        "x=np.array( [ [1,4],[1,0],[4,2],[4,4],[4,0],[10,2],[10,4],[10,0],[1,2] ] )"
      ],
      "metadata": {
        "id": "U6-tXzRT8fLX"
      },
      "execution_count": 2,
      "outputs": []
    },
    {
      "cell_type": "markdown",
      "source": [
        "###**DEFINE AND TRAINING MODEL**"
      ],
      "metadata": {
        "id": "R_IgeTfVQ8uv"
      }
    },
    {
      "cell_type": "code",
      "source": [
        "#Define and train KMeans model\n",
        "Model=KMeans(n_clusters=6,random_state=42,n_init=10)\n",
        "Model.fit(x)\n",
        "label=Model.labels_\n",
        "print(label)"
      ],
      "metadata": {
        "id": "6oUXD2W-9GUR",
        "colab": {
          "base_uri": "https://localhost:8080/"
        },
        "outputId": "07958469-427f-461f-ad21-761ba4869e20"
      },
      "execution_count": 3,
      "outputs": [
        {
          "output_type": "stream",
          "name": "stdout",
          "text": [
            "[4 2 0 0 5 1 3 1 2]\n"
          ]
        }
      ]
    },
    {
      "cell_type": "markdown",
      "source": [
        "###**EVALUATION**"
      ],
      "metadata": {
        "id": "7qWbMxkBRFHN"
      }
    },
    {
      "cell_type": "code",
      "source": [
        "#Evaluate clustering using silhoutte score\n",
        "sil_score=silhouette_score(x,label)\n",
        "print( f\"silhoutte score: {sil_score:2f}\" )"
      ],
      "metadata": {
        "colab": {
          "base_uri": "https://localhost:8080/"
        },
        "id": "_IE42P9n9qEc",
        "outputId": "e5c40694-1ab7-40c9-f12f-7a85f8886fe1"
      },
      "execution_count": 4,
      "outputs": [
        {
          "output_type": "stream",
          "name": "stdout",
          "text": [
            "silhoutte score: 0.129630\n"
          ]
        }
      ]
    },
    {
      "cell_type": "markdown",
      "source": [
        "###**PLOTING GRAPH**"
      ],
      "metadata": {
        "id": "RFc38btvRJXM"
      }
    },
    {
      "cell_type": "code",
      "source": [
        "plt.scatter(x[:,0],x[:,1],c=label,cmap='rainbow',marker=\"o\",edgecolors=\"black\")\n",
        "plt.scatter(Model.cluster_centers_[:,0],Model.cluster_centers_[:,1],c=\"black\",marker=\"x\",s=200,label='centroids')\n",
        "plt.xlabel(\"x1\")\n",
        "plt.ylabel(\"x2\")\n",
        "plt.title(\"KMeans Clustering\")\n",
        "plt.legend()\n",
        "plt.show()"
      ],
      "metadata": {
        "colab": {
          "base_uri": "https://localhost:8080/",
          "height": 472
        },
        "id": "jRQ6_nJJFHWh",
        "outputId": "d2393db4-8cc8-40a1-b19d-42e63f173254"
      },
      "execution_count": 5,
      "outputs": [
        {
          "output_type": "display_data",
          "data": {
            "text/plain": [
              "<Figure size 640x480 with 1 Axes>"
            ],
            "image/png": "[encoded data removed]"
          },
          "metadata": {}
        }
      ]
    },
    {
      "cell_type": "code",
      "source": [],
      "metadata": {
        "id": "C9PBCj2_LYe9"
      },
      "execution_count": null,
      "outputs": []
    }
  ]
}